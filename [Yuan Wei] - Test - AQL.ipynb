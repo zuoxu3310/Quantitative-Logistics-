{
 "cells": [
  {
   "cell_type": "markdown",
   "id": "373b47ff",
   "metadata": {},
   "source": [
    "# SA"
   ]
  },
  {
   "cell_type": "code",
   "execution_count": 1,
   "id": "7d3339bb",
   "metadata": {},
   "outputs": [],
   "source": [
    "import networkx as nx\n",
    "from networkx.exception import PowerIterationFailedConvergence\n",
    "import random\n",
    "import math\n",
    "import matplotlib.pyplot as plt\n",
    "import numpy as np\n",
    "from tqdm import tqdm"
   ]
  },
  {
   "cell_type": "code",
   "execution_count": 2,
   "id": "282c0d2b",
   "metadata": {},
   "outputs": [],
   "source": [
    "def compute(G,num_vertices):\n",
    "    centralities = []\n",
    "    try: \n",
    "        degree_centrality = nx.degree_centrality(G)\n",
    "        centralities.append(degree_centrality)\n",
    "        betweenness_centrality = nx.betweenness_centrality(G)\n",
    "        centralities.append(betweenness_centrality)\n",
    "        closeness_centrality = nx.closeness_centrality(G)\n",
    "        centralities.append(closeness_centrality)\n",
    "        eigenvector_centrality = nx.eigenvector_centrality(G)\n",
    "        centralities.append(eigenvector_centrality)\n",
    "    except PowerIterationFailedConvergence:\n",
    "        num_edges = random.randint(1, num_vertices*(num_vertices-1)//2)\n",
    "        G = nx.dense_gnm_random_graph(num_vertices, num_edges)\n",
    "        centralities = []\n",
    "        compute(G,num_vertices)\n",
    "\n",
    "    return centralities\n"
   ]
  },
  {
   "cell_type": "code",
   "execution_count": 73,
   "id": "4ba6f447",
   "metadata": {},
   "outputs": [],
   "source": [
    "def cost_function(centralities):\n",
    "    max_nodes_list = []\n",
    "    for centrality in centralities:\n",
    "        max_value = max(centrality.values())\n",
    "        max_nodes = [node for node, value in centrality.items() if value == max_value]\n",
    "        max_nodes_list.append(max_nodes)\n",
    "    #print(max_nodes_list)\n",
    "    unique_max_nodes = []\n",
    "    [unique_max_nodes.extend(nodes) for nodes in max_nodes_list]\n",
    "    diff = abs(sum(len(max_node) for max_node in max_nodes_list) - 4)\n",
    "    unqi = abs(len(set(unique_max_nodes)) - 4)\n",
    "    #print(f\"diff{diff},unqi{unqi}\")\n",
    "    cost = math.sqrt(pow(diff, 2) + pow(unqi, 2))\n",
    "\n",
    "    return cost"
   ]
  },
  {
   "cell_type": "code",
   "execution_count": 74,
   "id": "564c6a72",
   "metadata": {},
   "outputs": [],
   "source": [
    "def mutate_graph(G, mutation_rate):\n",
    "    if random.random() < mutation_rate:\n",
    "        mutation_type = random.randint(1, 3)\n",
    "        if mutation_type == 1:\n",
    "            # Add a new edge between two existing nodes with random weight\n",
    "            nodes = list(G.nodes)\n",
    "            if len(nodes) > 1:\n",
    "                source, target = random.sample(nodes, 2)\n",
    "                edge_weight = random.random()\n",
    "                G.add_edge(source, target, weight=edge_weight)\n",
    "        elif mutation_type == 2:\n",
    "            # Remove a random edge from the graph\n",
    "            num_edges_to_remove = random.randint(1, 3)\n",
    "            for i in range(num_edges_to_remove):\n",
    "                if len(G.edges) > 0:\n",
    "                    source, target = random.choice(list(G.edges))\n",
    "                    G.remove_edge(source, target)\n",
    "        elif mutation_type == 3:\n",
    "            # Change the weight of a random edge in the graph\n",
    "            if len(G.edges) > 0:\n",
    "                source, target = random.choice(list(G.edges))\n",
    "                edge_weight = random.random()\n",
    "                G[source][target]['weight'] = edge_weight\n",
    "        return G\n",
    "    else:\n",
    "        return G"
   ]
  },
  {
   "cell_type": "code",
   "execution_count": 75,
   "id": "cfaa1e06",
   "metadata": {},
   "outputs": [],
   "source": [
    "def simulated_annealing(G, num_vertices, T0, alpha, mutation_rate, max_iterations):\n",
    "    # Compute the initial centrality measures and cost\n",
    "    centrality_measures = compute(G, num_vertices)\n",
    "    cost = cost_function(centrality_measures)\n",
    "\n",
    "    # Initialize the best graph and its cost\n",
    "    best_G = G.copy()\n",
    "    best_cost = cost\n",
    "\n",
    "    # Initialize the temperature\n",
    "    T = T0\n",
    "\n",
    "    # Initialize the lists to store the cost at each iteration\n",
    "    costs = []\n",
    "    avg_costs = []\n",
    "    best_costs = [best_cost]\n",
    "\n",
    "    # Loop over the iterations\n",
    "    for i in tqdm(range(max_iterations)):\n",
    "        # Mutate the graph\n",
    "        new_G = mutate_graph(G, mutation_rate)\n",
    "\n",
    "        # Compute the new centrality measures and cost\n",
    "        new_centrality_measures = compute(new_G, num_vertices)\n",
    "        new_cost = cost_function(new_centrality_measures)\n",
    "\n",
    "        # Calculate the energy difference\n",
    "        delta_E = new_cost - cost\n",
    "\n",
    "        # Accept or reject the new graph\n",
    "        if delta_E < 0 or random.random() < math.exp(-delta_E / T):\n",
    "            G = new_G\n",
    "            centrality_measures = new_centrality_measures\n",
    "            cost = new_cost\n",
    "\n",
    "            # Update the best graph if needed\n",
    "            if cost < best_cost:\n",
    "                best_G = G.copy()\n",
    "                best_cost = cost\n",
    "                if best_cost == 0:\n",
    "                    print(f\"Found graph at{i}th iteration\")\n",
    "                    nx.draw(best_G, with_labels=True)\n",
    "                    plt.show()\n",
    "\n",
    "        # Update the costs for this iteration\n",
    "        costs.append(cost)\n",
    "        avg_cost = np.mean(costs)\n",
    "        avg_costs.append(avg_cost) \n",
    "        best_costs.append(best_cost)\n",
    "\n",
    "        # Reduce the temperature\n",
    "        T *= alpha\n",
    "\n",
    "    # Plot the curves of cost, average, and best\n",
    "    iterations = range(max_iterations)\n",
    "    plt.plot(iterations, costs, label='Cost')\n",
    "    plt.plot(iterations, avg_costs, label='Average')\n",
    "    #plt.plot(iterations, best_costs[:-1], label='Best')\n",
    "    plt.xlabel('Iteration')\n",
    "    plt.ylabel('Cost')\n",
    "    plt.legend()\n",
    "    plt.show()\n",
    "\n",
    "    return best_G, best_cost\n"
   ]
  },
  {
   "cell_type": "code",
   "execution_count": 80,
   "id": "b03fce2d",
   "metadata": {
    "scrolled": false
   },
   "outputs": [
    {
     "name": "stderr",
     "output_type": "stream",
     "text": [
      "100%|████████████████████████████████████| 20000/20000 [00:20<00:00, 967.13it/s]\n"
     ]
    },
    {
     "data": {
      "image/png": "[encoded data removed]",
      "text/plain": [
       "<Figure size 640x480 with 1 Axes>"
      ]
     },
     "metadata": {},
     "output_type": "display_data"
    }
   ],
   "source": [
    "num_vertices = 9\n",
    "num_edges = random.randint(1, num_vertices*(num_vertices-1)//2)\n",
    "G = nx.dense_gnm_random_graph(num_vertices, num_edges)\n",
    "\n",
    "mutation_rate= 0.9\n",
    "T0=100\n",
    "alpha=0.99\n",
    "max_iterations=20000\n",
    "\n",
    "best_G, best_cost = simulated_annealing(G, num_vertices, T0, alpha, mutation_rate, max_iterations)\n",
    "\n"
   ]
  },
  {
   "cell_type": "code",
   "execution_count": 81,
   "id": "d3d18829",
   "metadata": {},
   "outputs": [
    {
     "data": {
      "image/png": "[encoded data removed]",
      "text/plain": [
       "<Figure size 640x480 with 1 Axes>"
      ]
     },
     "metadata": {},
     "output_type": "display_data"
    },
    {
     "name": "stdout",
     "output_type": "stream",
     "text": [
      "[[5], [0], [7], [5]]\n",
      "diff0,unqi1\n"
     ]
    },
    {
     "data": {
      "text/plain": [
       "1.0"
      ]
     },
     "execution_count": 81,
     "metadata": {},
     "output_type": "execute_result"
    }
   ],
   "source": [
    "def cost_function_b(centralities):\n",
    "    max_nodes_list = []\n",
    "    for centrality in centralities:\n",
    "        max_value = max(centrality.values())\n",
    "        max_nodes = [node for node, value in centrality.items() if value == max_value]\n",
    "        max_nodes_list.append(max_nodes)\n",
    "    print(max_nodes_list)\n",
    "    unique_max_nodes = []\n",
    "    [unique_max_nodes.extend(nodes) for nodes in max_nodes_list]\n",
    "    diff = abs(sum(len(max_node) for max_node in max_nodes_list) - 4)\n",
    "    unqi = abs(len(set(unique_max_nodes)) - 4)\n",
    "    print(f\"diff{diff},unqi{unqi}\")\n",
    "    cost = math.sqrt(pow(diff, 2) + pow(unqi, 2))\n",
    "\n",
    "    return cost\n",
    "nx.draw(best_G, with_labels=True)\n",
    "plt.show()\n",
    "centralities = compute(best_G,num_vertices)\n",
    "cost_function_b(centralities)"
   ]
  },
  {
   "cell_type": "code",
   "execution_count": null,
   "id": "b210f753",
   "metadata": {},
   "outputs": [],
   "source": []
  }
 ],
 "metadata": {
  "kernelspec": {
   "display_name": "Python 3 (ipykernel)",
   "language": "python",
   "name": "python3"
  },
  "language_info": {
   "codemirror_mode": {
    "name": "ipython",
    "version": 3
   },
   "file_extension": ".py",
   "mimetype": "text/x-python",
   "name": "python",
   "nbconvert_exporter": "python",
   "pygments_lexer": "ipython3",
   "version": "3.9.6"
  }
 },
 "nbformat": 4,
 "nbformat_minor": 5
}
