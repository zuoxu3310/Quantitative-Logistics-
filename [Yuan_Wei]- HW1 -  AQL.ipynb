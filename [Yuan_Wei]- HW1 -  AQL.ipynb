{
 "cells": [
  {
   "cell_type": "markdown",
   "id": "66755134",
   "metadata": {},
   "source": [
    "# HW1 - Applied Quantitative Logistics\n",
    "\n",
    "## Definitions\n",
    "\n",
    "**Brute Force:** straightforward methods of solving a problem that rely on sheer computing power and trying every possibility rather than advanced techniques to improve efficiency. [link](https://textbooks.cs.ksu.edu/cc310/4-data-structures-and-algorithms/12-brute-force/#:~:text=Simply%20put%2C%20a%20brute%20force,over%20and%20try%20the%20other.)\n",
    "\n",
    "- A brute force algorithm solves a problem through exhaustion: it goes through all possible choices until a solution is found.\n",
    "\n",
    "- The time complexity of a brute force algorithm is often proportional to the input size.\n",
    "\n",
    "- Brute force algorithms are simple and consistent, but very slow.\n",
    "\n",
    "Instruction for submission:\n",
    "\n",
    "- Please submit your solutions in (.ipynb) format to my email (msohrabi@hse.ru).\n",
    "\n",
    "- Deadline: **February 3, 2023, 11:59 pm.**\n",
    "\n",
    "- The subject of the email: **[HW1_AQL]-YOUR_NAME**"
   ]
  },
  {
   "cell_type": "code",
   "execution_count": 1,
   "id": "c8aa7a0c",
   "metadata": {},
   "outputs": [],
   "source": [
    "import pandas as pd"
   ]
  },
  {
   "cell_type": "markdown",
   "id": "b7974257",
   "metadata": {},
   "source": [
    "### Requirements"
   ]
  },
  {
   "cell_type": "code",
   "execution_count": 2,
   "id": "42292e23",
   "metadata": {},
   "outputs": [
    {
     "data": {
      "text/html": [
       "<div>\n",
       "<style scoped>\n",
       "    .dataframe tbody tr th:only-of-type {\n",
       "        vertical-align: middle;\n",
       "    }\n",
       "\n",
       "    .dataframe tbody tr th {\n",
       "        vertical-align: top;\n",
       "    }\n",
       "\n",
       "    .dataframe thead th {\n",
       "        text-align: right;\n",
       "    }\n",
       "</style>\n",
       "<table border=\"1\" class=\"dataframe\">\n",
       "  <thead>\n",
       "    <tr style=\"text-align: right;\">\n",
       "      <th></th>\n",
       "      <th>ID</th>\n",
       "      <th>Name</th>\n",
       "    </tr>\n",
       "  </thead>\n",
       "  <tbody>\n",
       "    <tr>\n",
       "      <th>0</th>\n",
       "      <td>1</td>\n",
       "      <td>A</td>\n",
       "    </tr>\n",
       "    <tr>\n",
       "      <th>1</th>\n",
       "      <td>2</td>\n",
       "      <td>B</td>\n",
       "    </tr>\n",
       "    <tr>\n",
       "      <th>2</th>\n",
       "      <td>3</td>\n",
       "      <td>C</td>\n",
       "    </tr>\n",
       "    <tr>\n",
       "      <th>3</th>\n",
       "      <td>4</td>\n",
       "      <td>D</td>\n",
       "    </tr>\n",
       "    <tr>\n",
       "      <th>4</th>\n",
       "      <td>5</td>\n",
       "      <td>E</td>\n",
       "    </tr>\n",
       "  </tbody>\n",
       "</table>\n",
       "</div>"
      ],
      "text/plain": [
       "   ID Name\n",
       "0   1    A\n",
       "1   2    B\n",
       "2   3    C\n",
       "3   4    D\n",
       "4   5    E"
      ]
     },
     "execution_count": 2,
     "metadata": {},
     "output_type": "execute_result"
    }
   ],
   "source": [
    "df_resources = pd.DataFrame([[1, \"A\"], [2, \"B\"], [3, \"C\"],\n",
    "                             [4, \"D\"],[5, \"E\"]], columns=[\"ID\", \"Name\"])\n",
    "df_resources"
   ]
  },
  {
   "cell_type": "code",
   "execution_count": 3,
   "id": "5b32ade7",
   "metadata": {},
   "outputs": [
    {
     "data": {
      "text/html": [
       "<div>\n",
       "<style scoped>\n",
       "    .dataframe tbody tr th:only-of-type {\n",
       "        vertical-align: middle;\n",
       "    }\n",
       "\n",
       "    .dataframe tbody tr th {\n",
       "        vertical-align: top;\n",
       "    }\n",
       "\n",
       "    .dataframe thead th {\n",
       "        text-align: right;\n",
       "    }\n",
       "</style>\n",
       "<table border=\"1\" class=\"dataframe\">\n",
       "  <thead>\n",
       "    <tr style=\"text-align: right;\">\n",
       "      <th></th>\n",
       "      <th>ID</th>\n",
       "      <th>Name</th>\n",
       "      <th>Start Time</th>\n",
       "      <th>End Time</th>\n",
       "    </tr>\n",
       "  </thead>\n",
       "  <tbody>\n",
       "    <tr>\n",
       "      <th>0</th>\n",
       "      <td>1</td>\n",
       "      <td>a</td>\n",
       "      <td>10.05.2020</td>\n",
       "      <td>15.05.2020</td>\n",
       "    </tr>\n",
       "    <tr>\n",
       "      <th>1</th>\n",
       "      <td>2</td>\n",
       "      <td>b</td>\n",
       "      <td>13.05.2020</td>\n",
       "      <td>27.07.2020</td>\n",
       "    </tr>\n",
       "    <tr>\n",
       "      <th>2</th>\n",
       "      <td>3</td>\n",
       "      <td>c</td>\n",
       "      <td>08.07.2020</td>\n",
       "      <td>30.07.2020</td>\n",
       "    </tr>\n",
       "    <tr>\n",
       "      <th>3</th>\n",
       "      <td>4</td>\n",
       "      <td>d</td>\n",
       "      <td>11.12.2020</td>\n",
       "      <td>29.12.2020</td>\n",
       "    </tr>\n",
       "    <tr>\n",
       "      <th>4</th>\n",
       "      <td>5</td>\n",
       "      <td>e</td>\n",
       "      <td>06.11.2020</td>\n",
       "      <td>07.11.2020</td>\n",
       "    </tr>\n",
       "  </tbody>\n",
       "</table>\n",
       "</div>"
      ],
      "text/plain": [
       "   ID Name  Start Time    End Time\n",
       "0   1    a  10.05.2020  15.05.2020\n",
       "1   2    b  13.05.2020  27.07.2020\n",
       "2   3    c  08.07.2020  30.07.2020\n",
       "3   4    d  11.12.2020  29.12.2020\n",
       "4   5    e  06.11.2020  07.11.2020"
      ]
     },
     "execution_count": 3,
     "metadata": {},
     "output_type": "execute_result"
    }
   ],
   "source": [
    "df_projects = pd.DataFrame([[1, \"a\", \"10.05.2020\", \"15.05.2020\"], [2, \"b\", \"13.05.2020\", \"27.07.2020\"],\n",
    "                            [3, \"c\", \"08.07.2020\", \"30.07.2020\"], [4, \"d\", \"11.12.2020\", \"29.12.2020\"],\n",
    "                            [5, \"e\", \"06.11.2020\", \"07.11.2020\"]], \n",
    "                           columns=[\"ID\", \"Name\", \"Start Time\", \"End Time\"])\n",
    "df_projects"
   ]
  },
  {
   "cell_type": "code",
   "execution_count": 4,
   "id": "299d9345",
   "metadata": {},
   "outputs": [
    {
     "data": {
      "text/html": [
       "<div>\n",
       "<style scoped>\n",
       "    .dataframe tbody tr th:only-of-type {\n",
       "        vertical-align: middle;\n",
       "    }\n",
       "\n",
       "    .dataframe tbody tr th {\n",
       "        vertical-align: top;\n",
       "    }\n",
       "\n",
       "    .dataframe thead th {\n",
       "        text-align: right;\n",
       "    }\n",
       "</style>\n",
       "<table border=\"1\" class=\"dataframe\">\n",
       "  <thead>\n",
       "    <tr style=\"text-align: right;\">\n",
       "      <th></th>\n",
       "      <th>ID</th>\n",
       "      <th>ID_res</th>\n",
       "      <th>ID_pro</th>\n",
       "    </tr>\n",
       "  </thead>\n",
       "  <tbody>\n",
       "    <tr>\n",
       "      <th>0</th>\n",
       "      <td>1</td>\n",
       "      <td>1</td>\n",
       "      <td>1</td>\n",
       "    </tr>\n",
       "    <tr>\n",
       "      <th>1</th>\n",
       "      <td>2</td>\n",
       "      <td>5</td>\n",
       "      <td>3</td>\n",
       "    </tr>\n",
       "    <tr>\n",
       "      <th>2</th>\n",
       "      <td>3</td>\n",
       "      <td>2</td>\n",
       "      <td>4</td>\n",
       "    </tr>\n",
       "    <tr>\n",
       "      <th>3</th>\n",
       "      <td>4</td>\n",
       "      <td>4</td>\n",
       "      <td>5</td>\n",
       "    </tr>\n",
       "    <tr>\n",
       "      <th>4</th>\n",
       "      <td>5</td>\n",
       "      <td>3</td>\n",
       "      <td>2</td>\n",
       "    </tr>\n",
       "    <tr>\n",
       "      <th>5</th>\n",
       "      <td>6</td>\n",
       "      <td>2</td>\n",
       "      <td>1</td>\n",
       "    </tr>\n",
       "    <tr>\n",
       "      <th>6</th>\n",
       "      <td>7</td>\n",
       "      <td>3</td>\n",
       "      <td>1</td>\n",
       "    </tr>\n",
       "    <tr>\n",
       "      <th>7</th>\n",
       "      <td>8</td>\n",
       "      <td>2</td>\n",
       "      <td>2</td>\n",
       "    </tr>\n",
       "  </tbody>\n",
       "</table>\n",
       "</div>"
      ],
      "text/plain": [
       "   ID  ID_res  ID_pro\n",
       "0   1       1       1\n",
       "1   2       5       3\n",
       "2   3       2       4\n",
       "3   4       4       5\n",
       "4   5       3       2\n",
       "5   6       2       1\n",
       "6   7       3       1\n",
       "7   8       2       2"
      ]
     },
     "execution_count": 4,
     "metadata": {},
     "output_type": "execute_result"
    }
   ],
   "source": [
    "df_expertise = pd.DataFrame([[1, 1, 1], [2, 5, 3], [3, 2, 4], [4, 4, 5], [5, 3, 2], [6, 2, 1], [7, 3, 1], [8, 2, 2]],\n",
    "                           columns=[\"ID\", \"ID_res\", \"ID_pro\"])\n",
    "\n",
    "df_expertise"
   ]
  },
  {
   "cell_type": "markdown",
   "id": "92953041",
   "metadata": {},
   "source": [
    "### All Feasible Combinations"
   ]
  },
  {
   "cell_type": "code",
   "execution_count": 5,
   "id": "c90c7207",
   "metadata": {},
   "outputs": [
    {
     "name": "stdout",
     "output_type": "stream",
     "text": [
      "   ID_res  ID_pro Resource Name Project Name  Start Time    End Time\n",
      "0       1       1             A            a  10.05.2020  15.05.2020\n",
      "1       2       1             B            a  10.05.2020  15.05.2020\n",
      "2       3       1             C            a  10.05.2020  15.05.2020\n",
      "3       5       3             E            c  08.07.2020  30.07.2020\n",
      "4       2       4             B            d  11.12.2020  29.12.2020\n",
      "5       2       2             B            b  13.05.2020  27.07.2020\n",
      "6       3       2             C            b  13.05.2020  27.07.2020\n",
      "7       4       5             D            e  06.11.2020  07.11.2020\n"
     ]
    }
   ],
   "source": [
    "# merge df_expertise with df_resources to get resource names\n",
    "df_combined1 = pd.merge(df_expertise, df_resources, left_on='ID_res', right_on='ID')\n",
    "\n",
    "# merge df_combined1 with df_projects to get project names\n",
    "df_combined2 = pd.merge(df_combined1, df_projects, left_on='ID_pro', right_on='ID')\n",
    "\n",
    "# drop unnecessary columns\n",
    "df_combined2.drop(['ID_x', 'ID_y', 'ID'], axis=1, inplace=True)\n",
    "\n",
    "# rename columns for clarity\n",
    "df_combined2.rename(columns={'Name_x': 'Resource Name', 'Name_y': 'Project Name'}, inplace=True)\n",
    "\n",
    "# print final combined dataframe\n",
    "print(df_combined2)\n"
   ]
  },
  {
   "cell_type": "code",
   "execution_count": 7,
   "id": "109af466",
   "metadata": {},
   "outputs": [
    {
     "name": "stdout",
     "output_type": "stream",
     "text": [
      "Allocation 1: [('a', 'A'), ('c', 'E'), ('d', 'B'), ('b', 'B'), ('e', 'D')]\n",
      "Allocation 2: [('a', 'A'), ('c', 'E'), ('d', 'B'), ('b', 'C'), ('e', 'D')]\n",
      "Allocation 3: [('a', 'B'), ('c', 'E'), ('d', 'B'), ('b', 'B'), ('e', 'D')]\n",
      "Allocation 4: [('a', 'B'), ('c', 'E'), ('d', 'B'), ('b', 'C'), ('e', 'D')]\n",
      "Allocation 5: [('a', 'C'), ('c', 'E'), ('d', 'B'), ('b', 'B'), ('e', 'D')]\n",
      "Allocation 6: [('a', 'C'), ('c', 'E'), ('d', 'B'), ('b', 'C'), ('e', 'D')]\n"
     ]
    }
   ],
   "source": [
    "import itertools\n",
    "# find unique project names\n",
    "projects = df_combined2['Project Name'].unique()\n",
    "\n",
    "# find resources for each project\n",
    "resources_for_project = {}\n",
    "for proj in projects:\n",
    "    resources = df_combined2[df_combined2['Project Name'] == proj]['Resource Name'].tolist()\n",
    "    resources_for_project[proj] = resources\n",
    "\n",
    "# find all combinations of resources for each project\n",
    "combinations = list(itertools.product(*resources_for_project.values()))\n",
    "\n",
    "# map project names to combinations\n",
    "allocations = []\n",
    "for comb in combinations:\n",
    "    allocation = [(proj, res) for proj, res in zip(projects, comb)]\n",
    "    allocations.append(allocation)\n",
    "\n",
    "# print all possible allocations\n",
    "for i, allocation in enumerate(allocations):\n",
    "    print(f\"Allocation {i + 1}: {allocation}\")\n"
   ]
  },
  {
   "cell_type": "code",
   "execution_count": 13,
   "id": "743af5bc",
   "metadata": {},
   "outputs": [
    {
     "name": "stdout",
     "output_type": "stream",
     "text": [
      "Overlap detected between projects a and b\n",
      "Overlap detected between projects b and c\n"
     ]
    }
   ],
   "source": [
    "df_projects['Start Time'] = pd.to_datetime(df_projects['Start Time'], format='%d.%m.%Y')\n",
    "df_projects['End Time'] = pd.to_datetime(df_projects['End Time'], format='%d.%m.%Y')\n",
    "\n",
    "overlap_detected = False\n",
    "for i in range(len(df_projects)):\n",
    "    for j in range(i+1, len(df_projects)):\n",
    "        start_time_1 = df_projects.loc[i, 'Start Time']\n",
    "        end_time_1 = df_projects.loc[i, 'End Time']\n",
    "        start_time_2 = df_projects.loc[j, 'Start Time']\n",
    "        end_time_2 = df_projects.loc[j, 'End Time']\n",
    "        \n",
    "        if (start_time_1 <= end_time_2) & (start_time_2 <= end_time_1):\n",
    "            overlap_detected = True\n",
    "            print(f\"Overlap detected between projects {df_projects.loc[i, 'Name']} and {df_projects.loc[j, 'Name']}\")\n",
    "            \n",
    "if not overlap_detected:\n",
    "    print(\"No overlap detected between projects\")\n"
   ]
  },
  {
   "cell_type": "markdown",
   "id": "f03a1557",
   "metadata": {},
   "source": [
    "### Brute Force - [Algorithm Name]"
   ]
  },
  {
   "cell_type": "code",
   "execution_count": 17,
   "id": "55382c92",
   "metadata": {},
   "outputs": [],
   "source": [
    "# convert start and end time to datetime format\n",
    "df_projects['Start Time'] = pd.to_datetime(df_projects['Start Time'], format='%d.%m.%Y')\n",
    "df_projects['End Time'] = pd.to_datetime(df_projects['End Time'], format='%d.%m.%Y')\n",
    "\n",
    "\n",
    "#A list to store allocations without overlap\n",
    "allocations_without_overlap = []\n",
    "\n",
    "for allocation in allocations:\n",
    "    # Get the names of projects in the allocation\n",
    "    allocation_projects = [proj for proj, res in allocation]\n",
    "    # Get the dataframe with only the projects in the allocation\n",
    "    df_allocation = df_projects[df_projects['Name'].isin(allocation_projects)]\n",
    "    #A flag to check if there is overlap between projects in the same allocation\n",
    "    overlap_detected = False\n",
    "    # Check if there is overlap between projects in the allocation\n",
    "    for i in range(len(df_allocation)):\n",
    "        for j in range(i+1, len(df_allocation)):\n",
    "            start_time_1 = df_allocation.loc[i, 'Start Time']\n",
    "            end_time_1 = df_allocation.loc[i, 'End Time']\n",
    "            start_time_2 = df_allocation.loc[j, 'Start Time']\n",
    "            end_time_2 = df_allocation.loc[j, 'End Time']\n",
    "            # check if the projects overlap\n",
    "            if (start_time_1 <= end_time_2) & (start_time_2 <= end_time_1):\n",
    "            # get the resources for the overlapping projects\n",
    "                res_1 = [res for proj, res in allocation if proj == df_allocation.loc[i, 'Name']]\n",
    "                res_2 = [res for proj, res in allocation if proj == df_allocation.loc[j, 'Name']]\n",
    "            # check if the overlapping projects use the same resource\n",
    "            if res_1 == res_2:\n",
    "                overlap_detected = True\n",
    "                break\n",
    "        # If there is overlap, set the flag to True and break out of the inner loop\n",
    "        if overlap_detected:\n",
    "            break\n",
    "    # If there is no overlap in the allocation, append it to the list of allocations without overlap\n",
    "    if not overlap_detected:\n",
    "        allocations_without_overlap.append(allocation)"
   ]
  },
  {
   "cell_type": "markdown",
   "id": "568fe40c",
   "metadata": {},
   "source": [
    "### Print the Solutions"
   ]
  },
  {
   "cell_type": "code",
   "execution_count": 16,
   "id": "3326e889",
   "metadata": {},
   "outputs": [
    {
     "name": "stdout",
     "output_type": "stream",
     "text": [
      "Allocation 1 without overlap: [('a', 'A'), ('c', 'E'), ('d', 'B'), ('b', 'B'), ('e', 'D')]\n",
      "Allocation 2 without overlap: [('a', 'A'), ('c', 'E'), ('d', 'B'), ('b', 'C'), ('e', 'D')]\n",
      "Allocation 3 without overlap: [('a', 'B'), ('c', 'E'), ('d', 'B'), ('b', 'C'), ('e', 'D')]\n",
      "Allocation 4 without overlap: [('a', 'C'), ('c', 'E'), ('d', 'B'), ('b', 'B'), ('e', 'D')]\n"
     ]
    }
   ],
   "source": [
    "# If there are allocations without overlap, print them\n",
    "if allocations_without_overlap:\n",
    "    for i, allocation in enumerate(allocations_without_overlap):\n",
    "        print(f\"Allocation {i + 1} without overlap: {allocation}\")\n",
    "else:\n",
    "    print(\"No allocations without overlap detected\")"
   ]
  },
  {
   "cell_type": "code",
   "execution_count": 1,
   "id": "5c15c7bc",
   "metadata": {},
   "outputs": [
    {
     "name": "stdout",
     "output_type": "stream",
     "text": [
      "Time complexity: O(N^2), where N is the number of projects in the allocation\n"
     ]
    }
   ],
   "source": [
    "print(\"Time complexity: O(N^2), where N is the number of projects in the allocation\")\n"
   ]
  },
  {
   "cell_type": "code",
   "execution_count": null,
   "id": "68e81749",
   "metadata": {},
   "outputs": [],
   "source": []
  },
  {
   "cell_type": "code",
   "execution_count": null,
   "id": "eee7bafa",
   "metadata": {},
   "outputs": [],
   "source": []
  }
 ],
 "metadata": {
  "kernelspec": {
   "display_name": "Python 3 (ipykernel)",
   "language": "python",
   "name": "python3"
  },
  "language_info": {
   "codemirror_mode": {
    "name": "ipython",
    "version": 3
   },
   "file_extension": ".py",
   "mimetype": "text/x-python",
   "name": "python",
   "nbconvert_exporter": "python",
   "pygments_lexer": "ipython3",
   "version": "3.8.9"
  }
 },
 "nbformat": 4,
 "nbformat_minor": 5
}
