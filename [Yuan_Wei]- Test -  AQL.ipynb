{
 "cells": [
  {
   "cell_type": "code",
   "execution_count": 1,
   "id": "7210fcc5",
   "metadata": {},
   "outputs": [],
   "source": [
    "import random\n",
    "import numpy as np\n",
    "import matplotlib.pyplot as plt\n",
    "random.seed(0)"
   ]
  },
  {
   "cell_type": "code",
   "execution_count": 2,
   "id": "553c41d2",
   "metadata": {},
   "outputs": [],
   "source": [
    "def test1():\n",
    "    data = [\n",
    "        [6, 1, 0, 1, 2],\n",
    "        [4, 2, 5, 4, 6],\n",
    "        [0, 10, 2, 7, 7],\n",
    "        [5, 7, 3, 2, 5],\n",
    "        [6, 0, 0, 5, 7],\n",
    "        [1, 8, 3, 2, 3],\n",
    "        [0, 1, 7, 2, 3],\n",
    "        [7, 8, 10, 10, 0],\n",
    "        [7, 2, 9, 0, 3],\n",
    "        [3, 4, 10, 9, 0],\n",
    "        [0, 6, 1, 7, 6],\n",
    "        [1, 4, 0, 8, 3],\n",
    "        [9, 6, 8, 4, 2],\n",
    "        [6, 5, 4, 1, 5],\n",
    "        [10, 5, 10, 3, 5],\n",
    "        [7, 10, 5, 9, 6],\n",
    "        [8, 3, 5, 0, 9],\n",
    "        [0, 0, 2, 6, 5],\n",
    "        [9, 0, 8, 4, 3],\n",
    "        [9, 5, 8, 4, 10],\n",
    "        [7, 2, 8, 8, 3],\n",
    "        [6, 10, 5, 1, 4],\n",
    "        [2, 0, 3, 0, 4],\n",
    "        [7, 7, 9, 8, 10],\n",
    "        [0, 6, 3, 0, 0],\n",
    "        [5, 2, 2, 9, 1]\n",
    "    ]\n",
    "    return data"
   ]
  },
  {
   "cell_type": "code",
   "execution_count": 3,
   "id": "7c90ed1f",
   "metadata": {},
   "outputs": [],
   "source": [
    "def test2():\n",
    "    data = [\n",
    "        [1, 0, 8, 4, 8],\n",
    "        [9, 3, 8, 6, 7],\n",
    "        [5, 6, 0, 4, 7],\n",
    "        [7, 1, 4, 1, 9],\n",
    "        [2, 6, 9, 8, 10],\n",
    "        [0, 9, 2, 3, 1],\n",
    "        [8, 2, 3, 2, 5],\n",
    "        [3, 10, 4, 3, 3],\n",
    "        [6, 2, 10, 8, 6],\n",
    "        [6, 2, 8, 9, 8],\n",
    "        [4, 7, 6, 8, 7],\n",
    "        [10, 10, 6, 0, 3],\n",
    "        [10, 6, 7, 6, 7],\n",
    "        [9, 0, 2, 9, 6],\n",
    "        [4, 5, 10, 3, 9],\n",
    "        [7, 10, 0, 6, 4],\n",
    "        [1, 9, 5, 6, 0],\n",
    "        [10, 6, 0, 1, 0],\n",
    "        [9, 4, 9, 1, 4],\n",
    "        [4, 10, 4, 1, 1],\n",
    "        [3, 5, 4, 3, 6],\n",
    "        [2, 6, 10, 10, 4],\n",
    "        [5, 2, 8, 4, 6],\n",
    "        [2, 8, 5, 2, 0],\n",
    "        [9, 6, 0, 4, 10],\n",
    "        [3, 1, 3, 0, 0]\n",
    "    ]\n",
    "    return data\n"
   ]
  },
  {
   "cell_type": "code",
   "execution_count": 4,
   "id": "753ff8e5",
   "metadata": {},
   "outputs": [],
   "source": [
    "def create_distribution():\n",
    "    dis = [random.randint(0, 10) for i in range(5)]\n",
    "    return dis"
   ]
  },
  {
   "cell_type": "code",
   "execution_count": 5,
   "id": "fc9a86d3",
   "metadata": {},
   "outputs": [],
   "source": [
    "def cost(distribution, data):\n",
    "    num_met_expectations = 0\n",
    "    sum_distribution = sum(distribution)\n",
    "    for row in data:\n",
    "        if sum([1 for i in range(5) if distribution[i] >= row[i]]) >= 3:\n",
    "            num_met_expectations += 1\n",
    "    return num_met_expectations, sum_distribution\n"
   ]
  },
  {
   "cell_type": "code",
   "execution_count": 6,
   "id": "88a1a6db",
   "metadata": {},
   "outputs": [
    {
     "data": {
      "text/plain": [
       "[(19, 25)]"
      ]
     },
     "execution_count": 6,
     "metadata": {},
     "output_type": "execute_result"
    }
   ],
   "source": [
    "d = [4, 6, 5, 4, 6]\n",
    "fitness = [cost(d, test1())]\n",
    "fitness"
   ]
  },
  {
   "cell_type": "code",
   "execution_count": 7,
   "id": "a7f8d879",
   "metadata": {},
   "outputs": [],
   "source": [
    "def rouletteWheelSelection(p):\n",
    "    r = random.random()    \n",
    "    c = np.cumsum(p)\n",
    "    indexes = [index for index in range(len(c)) if c[index] > r]\n",
    "    return indexes[0]    "
   ]
  },
  {
   "cell_type": "code",
   "execution_count": 8,
   "id": "c04bcb33",
   "metadata": {},
   "outputs": [],
   "source": [
    "def single_point_crossover(distribution1, distribution2):\n",
    "    index = random.randint(0, 4)\n",
    "    new_distribution1 = distribution1[:index] + distribution2[index:]\n",
    "    new_distribution2 = distribution2[:index] + distribution1[index:]\n",
    "    return new_distribution1, new_distribution2\n"
   ]
  },
  {
   "cell_type": "code",
   "execution_count": 9,
   "id": "baf03631",
   "metadata": {},
   "outputs": [],
   "source": [
    "def two_point_crossover(distribution1, distribution2):\n",
    "    index1 = random.randint(0, 3)\n",
    "    index2 = random.randint(index1 + 1, 4)\n",
    "    new_distribution1 = distribution1[:index1] + distribution2[index1:index2+1] + distribution1[index2+1:]\n",
    "    new_distribution2 = distribution2[:index1] + distribution1[index1:index2+1] + distribution2[index2+1:]\n",
    "    return new_distribution1, new_distribution2\n"
   ]
  },
  {
   "cell_type": "code",
   "execution_count": 10,
   "id": "4855b6e7",
   "metadata": {},
   "outputs": [],
   "source": [
    "def uniform_crossover(distribution1, distribution2):\n",
    "    new_distribution1 = []\n",
    "    new_distribution2 = []\n",
    "    for i in range(5):\n",
    "        if random.random() < 0.5:\n",
    "            new_distribution1.append(distribution1[i])\n",
    "            new_distribution2.append(distribution2[i])\n",
    "        else:\n",
    "            new_distribution1.append(distribution2[i])\n",
    "            new_distribution2.append(distribution1[i])\n",
    "    return new_distribution1, new_distribution2\n"
   ]
  },
  {
   "cell_type": "code",
   "execution_count": 11,
   "id": "ef363563",
   "metadata": {},
   "outputs": [],
   "source": [
    "def select_crossover():\n",
    "    crossover_functions = [single_point_crossover, uniform_crossover, two_point_crossover]\n",
    "    crossover_probabilities = [0.2, 0.5, 0.3] \n",
    "    index = rouletteWheelSelection(crossover_probabilities)\n",
    "    return crossover_functions[index]\n"
   ]
  },
  {
   "cell_type": "code",
   "execution_count": 12,
   "id": "4f797bb0",
   "metadata": {},
   "outputs": [],
   "source": [
    "def swapMutation(solution):\n",
    "    index1, index2 = np.random.choice(len(solution), size=2, replace=False)\n",
    "    solution[index1], solution[index2] = solution[index2], solution[index1]\n",
    "    return solution"
   ]
  },
  {
   "cell_type": "code",
   "execution_count": 13,
   "id": "facaf411",
   "metadata": {},
   "outputs": [],
   "source": [
    "def reversionMutation(solution):\n",
    "    index1, index2 = np.random.choice(len(solution), size=2, replace=False)\n",
    "    solution[min(index1, index2):max(index1, index2)+1] = solution[min(index1, index2):max(index1, index2)+1][::-1]\n",
    "    return solution"
   ]
  },
  {
   "cell_type": "code",
   "execution_count": 14,
   "id": "08c5b3bd",
   "metadata": {},
   "outputs": [],
   "source": [
    "def insertionMutation(solution):\n",
    "    index1, index2 = np.random.choice(len(solution), size=2, replace=False)\n",
    "    value = solution.pop(index1)\n",
    "    solution.insert(index2, value)\n",
    "    return solution"
   ]
  },
  {
   "cell_type": "code",
   "execution_count": 15,
   "id": "923ed377",
   "metadata": {},
   "outputs": [],
   "source": [
    "def singleValueMutation(solution):\n",
    "    index1 = np.random.choice(len(solution))\n",
    "    solution[index1] = random.randint(0, 10)\n",
    "    return solution"
   ]
  },
  {
   "cell_type": "code",
   "execution_count": 16,
   "id": "62dd7719",
   "metadata": {},
   "outputs": [],
   "source": [
    "def doubleValueMutation(solution):\n",
    "    index1, index2 = np.random.choice(len(solution), size=2, replace=False)\n",
    "    solution[index1] = random.randint(0, 10)\n",
    "    solution[index2] = random.randint(0, 10)\n",
    "    return solution"
   ]
  },
  {
   "cell_type": "code",
   "execution_count": 17,
   "id": "d8104379",
   "metadata": {},
   "outputs": [],
   "source": [
    "def mutationSelector():\n",
    "    mutation_functions = [swapMutation, reversionMutation, insertionMutation,singleValueMutation,doubleValueMutation]\n",
    "    mutation_probabilities = [0.1, 0.1, 0.2, 0.3,0.3] \n",
    "    index = rouletteWheelSelection(mutation_probabilities)\n",
    "    return mutation_functions[index]\n"
   ]
  },
  {
   "cell_type": "code",
   "execution_count": 18,
   "id": "a44dfd90",
   "metadata": {},
   "outputs": [],
   "source": [
    "def tournamentSelection(population, fitness, tournament_size):\n",
    "    tournament = random.sample(list(enumerate(population)), tournament_size)\n",
    "\n",
    "    tournament_fitness = [fitness[i] for i, ind in tournament]\n",
    "    \n",
    "    tournament_sums = [cost(ind, model())[1] for i, ind in tournament]  \n",
    "    \n",
    "    max_fitness = max(tournament_fitness)\n",
    "    \n",
    "    if tournament_fitness.count(max_fitness) == 1:  \n",
    "        # if there is a clear winner based on fitness\n",
    "        return tournament[tournament_fitness.index(max_fitness)][1]\n",
    "    else:  \n",
    "        # if there are ties in fitness, break ties using sum of distribution\n",
    "        indices = [i for i in range(tournament_size) if tournament_fitness[i] == max_fitness]\n",
    "        sums = [tournament_sums[i] for i in indices]\n",
    "        min_sum = min(sums)\n",
    "        max_sum = max(sums)\n",
    "        if min_sum == max_sum:  \n",
    "            # if sums are the same, return a random individual\n",
    "            res = tournament[random.choice([i for i in range(tournament_size) if tournament_fitness[i] == max_fitness])][1]\n",
    "            return res\n",
    "        else:\n",
    "            # if sums are different, return individual with smaller sum\n",
    "            res = tournament[indices[sums.index(min_sum)]][1]\n",
    "            return res"
   ]
  },
  {
   "cell_type": "code",
   "execution_count": 19,
   "id": "31c0f317",
   "metadata": {},
   "outputs": [],
   "source": [
    "def genetic_algorithm(model,population_size, generations, tournament_size, crossover_rate, mutation_rate):\n",
    "\n",
    "    population = [create_distribution() for i in range(population_size)]\n",
    "    fitness = [cost(individual, model()) for individual in population]\n",
    "    bestSolution = population[0]\n",
    "    bestFitness = fitness[0]\n",
    "    bestFitnessList = []\n",
    "    avgFitnessList = []\n",
    "    \n",
    "    for generation in range(generations):\n",
    "        new_population = []\n",
    "        for i in range(population_size):\n",
    "            parent1 = tournamentSelection(population, fitness, tournament_size)\n",
    "            parent2 = tournamentSelection(population, fitness, tournament_size)\n",
    "\n",
    "            # Crossover\n",
    "            if random.random() < crossover_rate:\n",
    "                crossover = select_crossover()\n",
    "                child1, child2 = crossover(parent1, parent2)\n",
    "            else:\n",
    "                child1, child2 = parent1, parent2\n",
    "\n",
    "            # Mutation\n",
    "            if random.random() < mutation_rate:\n",
    "                mutation = mutationSelector()\n",
    "                child1 = mutation(child1)\n",
    "            if random.random() < mutation_rate:\n",
    "                mutation = mutationSelector()\n",
    "                child2 = mutation(child2)\n",
    "\n",
    "            new_population.append(child1)\n",
    "            new_population.append(child2)\n",
    "        \n",
    "        mergedPopulation = population + new_population\n",
    "        \n",
    "        random.shuffle(mergedPopulation)\n",
    "        \n",
    "        population = mergedPopulation[:population_size]\n",
    "\n",
    "        fitness = [cost(individual, model()) for individual in population]\n",
    "        #print(generation,\"th\",\":population \\n\",population ,\"\\n fitness \\n\",fitness)\n",
    "        # Update best solution and fitness\n",
    "        currentBestFitness = max(fitness, key=lambda x: (x[0], -x[1]))\n",
    "        condition1 = currentBestFitness[0] > bestFitness[0]\n",
    "        condition2 = currentBestFitness[0] == bestFitness[0] and currentBestFitness[1] < bestFitness[1]\n",
    "        condition3 = currentBestFitness[0] == bestFitness[0] and currentBestFitness[1] == bestFitness[1]\n",
    "        if  condition1 or condition2 or condition3 :\n",
    "            bestSolution = population[fitness.index(currentBestFitness)]\n",
    "            bestFitness = currentBestFitness\n",
    "        \n",
    "        \n",
    "        # Track average and best fitness over time\n",
    "        avgFitness = sum([f[0] for f in fitness]) / len(fitness)\n",
    "        avgFitnessList.append(avgFitness)\n",
    "        bestFitnessList.append(bestFitness[0])\n",
    "\n",
    "        print(\"Iteration \", generation+1, \": Best Fitness = \", bestFitness,\": Best Solution = \", bestSolution)\n",
    "        \n",
    "    # Print the best fitness overall\n",
    "    print(\"Best distribution : \", bestSolution,\"Best Fitness =\",bestFitness[0],\"Best sum = \",bestFitness[1] )\n",
    "    \n",
    "    # Plot the convergence curve\n",
    "    plt.plot(range(generations), bestFitnessList, label='Best')\n",
    "    plt.plot(range(generations), avgFitnessList, label='Average')\n",
    "    plt.legend()\n",
    "    plt.xlabel('Generation')\n",
    "    plt.ylabel('Fitness')\n",
    "    plt.show()\n",
    "    \n",
    "    # Return the best individual\n",
    "    return bestSolution\n"
   ]
  },
  {
   "cell_type": "markdown",
   "id": "4a63b249",
   "metadata": {},
   "source": [
    "# Test 1"
   ]
  },
  {
   "cell_type": "code",
   "execution_count": 20,
   "id": "d70691b4",
   "metadata": {},
   "outputs": [
    {
     "name": "stdout",
     "output_type": "stream",
     "text": [
      "Iteration  1 : Best Fitness =  (26, 33) : Best Solution =  [9, 7, 0, 10, 7]\n",
      "Iteration  2 : Best Fitness =  (26, 29) : Best Solution =  [10, 10, 0, 9, 0]\n",
      "Iteration  3 : Best Fitness =  (26, 29) : Best Solution =  [10, 10, 0, 9, 0]\n",
      "Iteration  4 : Best Fitness =  (26, 29) : Best Solution =  [10, 10, 0, 9, 0]\n",
      "Iteration  5 : Best Fitness =  (26, 29) : Best Solution =  [10, 10, 0, 9, 0]\n",
      "Iteration  6 : Best Fitness =  (26, 29) : Best Solution =  [0, 10, 10, 9, 0]\n",
      "Iteration  7 : Best Fitness =  (26, 29) : Best Solution =  [0, 10, 10, 9, 0]\n",
      "Iteration  8 : Best Fitness =  (26, 29) : Best Solution =  [0, 10, 10, 9, 0]\n",
      "Iteration  9 : Best Fitness =  (26, 29) : Best Solution =  [0, 10, 10, 9, 0]\n",
      "Iteration  10 : Best Fitness =  (26, 29) : Best Solution =  [0, 10, 10, 9, 0]\n",
      "Iteration  11 : Best Fitness =  (26, 29) : Best Solution =  [0, 10, 10, 9, 0]\n",
      "Iteration  12 : Best Fitness =  (26, 29) : Best Solution =  [0, 10, 10, 9, 0]\n",
      "Iteration  13 : Best Fitness =  (26, 29) : Best Solution =  [0, 10, 10, 9, 0]\n",
      "Iteration  14 : Best Fitness =  (26, 29) : Best Solution =  [0, 10, 10, 9, 0]\n",
      "Iteration  15 : Best Fitness =  (26, 29) : Best Solution =  [0, 10, 10, 9, 0]\n",
      "Iteration  16 : Best Fitness =  (26, 29) : Best Solution =  [0, 10, 10, 9, 0]\n",
      "Iteration  17 : Best Fitness =  (26, 29) : Best Solution =  [0, 10, 10, 9, 0]\n",
      "Iteration  18 : Best Fitness =  (26, 29) : Best Solution =  [0, 10, 10, 9, 0]\n",
      "Iteration  19 : Best Fitness =  (26, 29) : Best Solution =  [0, 10, 10, 9, 0]\n",
      "Iteration  20 : Best Fitness =  (26, 29) : Best Solution =  [0, 10, 10, 9, 0]\n",
      "Best distribution :  [0, 10, 10, 9, 0] Best Fitness = 26 Best sum =  29\n"
     ]
    },
    {
     "data": {
      "image/png": "[encoded data removed]",
      "text/plain": [
       "<Figure size 640x480 with 1 Axes>"
      ]
     },
     "metadata": {},
     "output_type": "display_data"
    },
    {
     "data": {
      "text/plain": [
       "[0, 10, 10, 9, 0]"
      ]
     },
     "execution_count": 20,
     "metadata": {},
     "output_type": "execute_result"
    }
   ],
   "source": [
    "model = test1\n",
    "population_size = 1000\n",
    "generations = 20\n",
    "tournament_size = 20\n",
    "crossover_rate = 0.9\n",
    "mutation_rate = 0.9\n",
    "genetic_algorithm(test1,population_size, generations, tournament_size, crossover_rate, mutation_rate)"
   ]
  },
  {
   "cell_type": "markdown",
   "id": "11141541",
   "metadata": {},
   "source": [
    "# Test 2"
   ]
  },
  {
   "cell_type": "code",
   "execution_count": 21,
   "id": "d4c3e687",
   "metadata": {},
   "outputs": [
    {
     "name": "stdout",
     "output_type": "stream",
     "text": [
      "Iteration  1 : Best Fitness =  (26, 30) : Best Solution =  [10, 7, 0, 9, 4]\n",
      "Iteration  2 : Best Fitness =  (26, 30) : Best Solution =  [10, 7, 0, 9, 4]\n",
      "Iteration  3 : Best Fitness =  (26, 30) : Best Solution =  [10, 7, 0, 9, 4]\n",
      "Iteration  4 : Best Fitness =  (26, 30) : Best Solution =  [10, 7, 0, 9, 4]\n",
      "Iteration  5 : Best Fitness =  (26, 30) : Best Solution =  [0, 10, 10, 10, 0]\n",
      "Iteration  6 : Best Fitness =  (26, 30) : Best Solution =  [10, 10, 0, 0, 10]\n",
      "Iteration  7 : Best Fitness =  (26, 30) : Best Solution =  [10, 0, 0, 10, 10]\n",
      "Iteration  8 : Best Fitness =  (26, 30) : Best Solution =  [10, 10, 0, 0, 10]\n",
      "Iteration  9 : Best Fitness =  (26, 30) : Best Solution =  [10, 10, 0, 0, 10]\n",
      "Iteration  10 : Best Fitness =  (26, 30) : Best Solution =  [10, 10, 10, 0, 0]\n",
      "Iteration  11 : Best Fitness =  (26, 30) : Best Solution =  [10, 10, 10, 0, 0]\n",
      "Iteration  12 : Best Fitness =  (26, 30) : Best Solution =  [10, 10, 10, 0, 0]\n",
      "Iteration  13 : Best Fitness =  (26, 30) : Best Solution =  [10, 0, 10, 10, 0]\n",
      "Iteration  14 : Best Fitness =  (26, 30) : Best Solution =  [10, 7, 0, 9, 4]\n",
      "Iteration  15 : Best Fitness =  (26, 30) : Best Solution =  [0, 10, 10, 10, 0]\n",
      "Iteration  16 : Best Fitness =  (26, 30) : Best Solution =  [0, 0, 10, 10, 10]\n",
      "Iteration  17 : Best Fitness =  (26, 30) : Best Solution =  [0, 10, 0, 10, 10]\n",
      "Iteration  18 : Best Fitness =  (26, 30) : Best Solution =  [0, 10, 0, 10, 10]\n",
      "Iteration  19 : Best Fitness =  (26, 30) : Best Solution =  [10, 7, 0, 10, 3]\n",
      "Iteration  20 : Best Fitness =  (26, 30) : Best Solution =  [10, 0, 0, 10, 10]\n",
      "Best distribution :  [10, 0, 0, 10, 10] Best Fitness = 26 Best sum =  30\n"
     ]
    },
    {
     "data": {
      "image/png": "[encoded data removed]",
      "text/plain": [
       "<Figure size 640x480 with 1 Axes>"
      ]
     },
     "metadata": {},
     "output_type": "display_data"
    },
    {
     "data": {
      "text/plain": [
       "[10, 0, 0, 10, 10]"
      ]
     },
     "execution_count": 21,
     "metadata": {},
     "output_type": "execute_result"
    }
   ],
   "source": [
    "model = test2\n",
    "population_size = 1000\n",
    "generations = 20\n",
    "tournament_size = 20\n",
    "crossover_rate = 0.9\n",
    "mutation_rate = 0.9\n",
    "genetic_algorithm(model,population_size, generations, tournament_size, crossover_rate, mutation_rate)"
   ]
  },
  {
   "cell_type": "code",
   "execution_count": null,
   "id": "5d4ebbbc",
   "metadata": {},
   "outputs": [],
   "source": []
  }
 ],
 "metadata": {
  "kernelspec": {
   "display_name": "Python 3 (ipykernel)",
   "language": "python",
   "name": "python3"
  },
  "language_info": {
   "codemirror_mode": {
    "name": "ipython",
    "version": 3
   },
   "file_extension": ".py",
   "mimetype": "text/x-python",
   "name": "python",
   "nbconvert_exporter": "python",
   "pygments_lexer": "ipython3",
   "version": "3.9.6"
  }
 },
 "nbformat": 4,
 "nbformat_minor": 5
}
