{
 "cells": [
  {
   "cell_type": "markdown",
   "id": "c3671993",
   "metadata": {},
   "source": [
    "# HW2 - Applied Quantitative Logistics\n",
    "\n",
    "Let's consider cargo transportation between two countries. We have a set of containers with different weights. Our goal is to minimize the number of shipments between two countries to minimize the cost of the system.\n",
    "\n",
    "In this problem, our ships have a limited capacity to load containers for each shipment. Try to minimize the system by a Brute Force Algorithm and find the solution.\n",
    "\n",
    "\n",
    "Instruction for submission:\n",
    "\n",
    "- Please submit your solutions in (.ipynb) format to my email (msohrabi@hse.ru).\n",
    "\n",
    "- Deadline: **February 10, 2023, 11:59 pm.**\n",
    "\n",
    "- The subject of the email: **[HW2_AQL]-YOUR_NAME**"
   ]
  },
  {
   "cell_type": "code",
   "execution_count": 1,
   "id": "959fca76",
   "metadata": {},
   "outputs": [],
   "source": [
    "# cargo dictionary - contains the list of the containers to be moved by ship and the weight\n",
    "\n",
    "cargo = {'Continer1': 19,\n",
    " 'Continer2': 29,\n",
    " 'Continer3': 43,\n",
    " 'Continer4': 45,\n",
    " 'Continer5': 32,\n",
    " 'Continer6': 22,\n",
    " 'Continer7': 51,\n",
    " 'Continer8': 65,\n",
    " 'Continer9': 31,\n",
    " 'Continer10': 13,\n",
    " 'Continer11': 62}\n",
    "\n",
    "# shipment_limit - the maximum weight for the shipment by a ship\n",
    "shipment_limit = 80     "
   ]
  },
  {
   "cell_type": "code",
   "execution_count": 2,
   "id": "53d58236",
   "metadata": {},
   "outputs": [],
   "source": [
    "from itertools import combinations\n",
    "\n",
    "def brute_force_algorithm(cargo, shipment_limit):\n",
    "    # Create a list of containers\n",
    "    containers = list(cargo.keys())\n",
    "    # Find the number of containers\n",
    "    n = len(containers)\n",
    "    # Create an empty list to store the shipments\n",
    "    shipments = []\n",
    "    # Repeat the process until all containers have been shipped\n",
    "    while containers:\n",
    "        # Create variables to store the maximum weight and the combination with the maximum weight\n",
    "        combination_with_max_weight = []\n",
    "        max_weight = 0\n",
    "        # Generate all combinations of containers\n",
    "        for i in range(1, n+1):\n",
    "            combinations_of_containers = list(combinations(containers, i))\n",
    "            for combination in combinations_of_containers:\n",
    "                # Calculate the total weight of each combination\n",
    "                weight = sum([cargo[container] for container in combination])\n",
    "                # If the weight is less than or equal to the shipment limit and greater than the maximum weight\n",
    "                if weight <= shipment_limit and weight > max_weight:\n",
    "                    # Update the maximum weight and the combination with the maximum weight\n",
    "                    max_weight = weight\n",
    "                    combination_with_max_weight = combination\n",
    "        # Add the combination with the maximum weight to the shipments\n",
    "        shipments.append(combination_with_max_weight)\n",
    "        # Remove the containers in the combination with the maximum weight from the list of containers\n",
    "        for container in combination_with_max_weight:\n",
    "            containers.remove(container)\n",
    "    # Return the shipments\n",
    "    return shipments\n"
   ]
  },
  {
   "cell_type": "code",
   "execution_count": 3,
   "id": "2c3796a2",
   "metadata": {},
   "outputs": [
    {
     "name": "stdout",
     "output_type": "stream",
     "text": [
      "Number of shipments: 6\n",
      "Shipments: [('Continer2', 'Continer7'), ('Continer4', 'Continer6', 'Continer10'), ('Continer3', 'Continer5'), ('Continer8',), ('Continer11',), ('Continer1', 'Continer9')]\n",
      "Time Complexity  = O(2^n * n),, where n is the number of containers\n"
     ]
    }
   ],
   "source": [
    "shipments = brute_force_algorithm(cargo, shipment_limit)\n",
    "print(\"Number of shipments:\", len(shipments))\n",
    "print(\"Shipments:\", shipments)\n",
    "print(\"Time Complexity  = O(2^n * n),, where n is the number of containers\")"
   ]
  },
  {
   "cell_type": "code",
   "execution_count": null,
   "id": "5392550c",
   "metadata": {},
   "outputs": [],
   "source": []
  },
  {
   "cell_type": "code",
   "execution_count": null,
   "id": "60e89e1d",
   "metadata": {},
   "outputs": [],
   "source": []
  },
  {
   "cell_type": "code",
   "execution_count": null,
   "id": "f3d9419d",
   "metadata": {},
   "outputs": [],
   "source": []
  },
  {
   "cell_type": "code",
   "execution_count": null,
   "id": "a0a58560",
   "metadata": {},
   "outputs": [],
   "source": []
  },
  {
   "cell_type": "code",
   "execution_count": null,
   "id": "30490c1e",
   "metadata": {},
   "outputs": [],
   "source": []
  },
  {
   "cell_type": "code",
   "execution_count": null,
   "id": "5bea1677",
   "metadata": {},
   "outputs": [],
   "source": []
  },
  {
   "cell_type": "code",
   "execution_count": 4,
   "id": "580c31f8",
   "metadata": {},
   "outputs": [],
   "source": [
    "#Greedy Algorithm\n",
    "def minimize_shipments(cargo, shipment_limit):\n",
    "    # Create a list of all container weights\n",
    "    containers = list(cargo.values())\n",
    "    n = len(containers)\n",
    "\n",
    "    # Initialize two lists, one for all containers that have been included in shipments\n",
    "    # and one for those that haven't been included yet\n",
    "    included = []\n",
    "    not_included = containers[:]\n",
    "\n",
    "    # Initialize a counter for the number of shipments and a list to store the combinations\n",
    "    # of containers in each shipment\n",
    "    shipments = 0\n",
    "    shipment_combinations = []\n",
    "\n",
    "    # Loop until all containers have been included in shipments\n",
    "    while not_included:\n",
    "        # Create a list to store containers in a shipment\n",
    "        shipment = []\n",
    "        shipment_weight = 0\n",
    "\n",
    "        # Loop through the containers that haven't been included yet\n",
    "        for i in range(len(not_included)):\n",
    "            # If the current container can be added to the shipment without exceeding the limit\n",
    "            if shipment_weight + not_included[i] <= shipment_limit:\n",
    "                # Add the container to the shipment and update the shipment weight\n",
    "                shipment_weight += not_included[i]\n",
    "                shipment.append(not_included[i])\n",
    "\n",
    "        # Add the containers in the shipment to the list of included containers\n",
    "        included += shipment\n",
    "        # Increment the shipment counter\n",
    "        shipments += 1\n",
    "        # Add the shipment to the list of shipment combinations\n",
    "        shipment_combinations.append(shipment)\n",
    "        # Remove the containers in the shipment from the list of containers that haven't been included yet\n",
    "        not_included = [c for c in not_included if c not in shipment]\n",
    "\n",
    "    # Return the minimum number of shipments required and the combinations of containers included in each shipment\n",
    "    return shipments, shipment_combinations\n"
   ]
  },
  {
   "cell_type": "code",
   "execution_count": 5,
   "id": "a131cbeb",
   "metadata": {},
   "outputs": [
    {
     "name": "stdout",
     "output_type": "stream",
     "text": [
      "Minimum number of shipments:  6\n",
      "Possible shipment combination:  [[19, 29, 32], [43, 22, 13], [45, 31], [51], [65], [62]]\n"
     ]
    }
   ],
   "source": [
    "result = minimize_shipments(cargo, shipment_limit)\n",
    "print(\"Minimum number of shipments: \", result[0])\n",
    "print(\"Possible shipment combination: \", result[1])\n"
   ]
  },
  {
   "cell_type": "code",
   "execution_count": null,
   "id": "6c405dd0",
   "metadata": {},
   "outputs": [],
   "source": []
  },
  {
   "cell_type": "code",
   "execution_count": null,
   "id": "b3786724",
   "metadata": {},
   "outputs": [],
   "source": []
  },
  {
   "cell_type": "code",
   "execution_count": null,
   "id": "2f8a1d7b",
   "metadata": {},
   "outputs": [],
   "source": []
  },
  {
   "cell_type": "code",
   "execution_count": null,
   "id": "a1c0e19f",
   "metadata": {},
   "outputs": [],
   "source": []
  },
  {
   "cell_type": "code",
   "execution_count": null,
   "id": "43a63be2",
   "metadata": {},
   "outputs": [],
   "source": []
  }
 ],
 "metadata": {
  "kernelspec": {
   "display_name": "Python 3 (ipykernel)",
   "language": "python",
   "name": "python3"
  },
  "language_info": {
   "codemirror_mode": {
    "name": "ipython",
    "version": 3
   },
   "file_extension": ".py",
   "mimetype": "text/x-python",
   "name": "python",
   "nbconvert_exporter": "python",
   "pygments_lexer": "ipython3",
   "version": "3.8.9"
  }
 },
 "nbformat": 4,
 "nbformat_minor": 5
}
